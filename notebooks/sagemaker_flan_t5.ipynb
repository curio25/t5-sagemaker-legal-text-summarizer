{
 "cells": [
  {
   "cell_type": "code",
   "execution_count": 2,
   "metadata": {},
   "outputs": [
    {
     "name": "stdout",
     "output_type": "stream",
     "text": [
      "Note: you may need to restart the kernel to use updated packages.\n"
     ]
    }
   ],
   "source": [
    "%pip install -q sagemaker boto3"
   ]
  },
  {
   "cell_type": "code",
   "execution_count": 3,
   "metadata": {},
   "outputs": [
    {
     "name": "stdout",
     "output_type": "stream",
     "text": [
      "sagemaker.config INFO - Not applying SDK defaults from location: /Library/Application Support/sagemaker/config.yaml\n",
      "sagemaker.config INFO - Not applying SDK defaults from location: /Users/shubhigupta/Library/Application Support/sagemaker/config.yaml\n"
     ]
    }
   ],
   "source": [
    "import json\n",
    "import sagemaker\n",
    "import boto3\n",
    "from sagemaker.huggingface import HuggingFaceModel, get_huggingface_llm_image_uri"
   ]
  },
  {
   "cell_type": "code",
   "execution_count": 12,
   "metadata": {},
   "outputs": [],
   "source": [
    "import boto3\n",
    "\n",
    "def get_role_arn(role_name):\n",
    "    iam = boto3.client('iam')\n",
    "    role = iam.get_role(RoleName=role_name)\n",
    "    return role['Role']['Arn']\n",
    "\n",
    "role = get_role_arn('sagemaker_execution_role')"
   ]
  },
  {
   "cell_type": "code",
   "execution_count": 13,
   "metadata": {},
   "outputs": [
    {
     "data": {
      "text/plain": [
       "'arn:aws:iam::949672723150:role/sagemaker_execution_role'"
      ]
     },
     "execution_count": 13,
     "metadata": {},
     "output_type": "execute_result"
    }
   ],
   "source": [
    "role"
   ]
  },
  {
   "cell_type": "code",
   "execution_count": 15,
   "metadata": {},
   "outputs": [
    {
     "name": "stdout",
     "output_type": "stream",
     "text": [
      "----------!"
     ]
    }
   ],
   "source": [
    "import sagemaker\n",
    "from sagemaker.huggingface import HuggingFaceModel\n",
    "import boto3\n",
    "\n",
    "def get_role_arn(role_name):\n",
    "    iam = boto3.client('iam')\n",
    "    role = iam.get_role(RoleName=role_name)\n",
    "    return role['Role']['Arn']\n",
    "\n",
    "role = get_role_arn('sagemaker_execution_role')\n",
    "\n",
    "# Hub Model configuration. https://huggingface.co/models\n",
    "hub = {\n",
    "\t'HF_MODEL_ID':'google/flan-t5-large',\n",
    "\t'HF_TASK':'summarization'\n",
    "}\n",
    "\n",
    "# create Hugging Face Model Class\n",
    "huggingface_model = HuggingFaceModel(\n",
    "\ttransformers_version='4.26.0',\n",
    "\tpytorch_version='1.13.1',\n",
    "\tpy_version='py39',\n",
    "\tenv=hub,\n",
    "\trole=role, \n",
    ")\n",
    "\n",
    "# deploy model to SageMaker Inference\n",
    "predictor = huggingface_model.deploy(\n",
    "\tinitial_instance_count=1, # number of instances\n",
    "\tinstance_type='ml.g5.2xlarge' # ec2 instance type\n",
    ")"
   ]
  },
  {
   "cell_type": "code",
   "execution_count": 16,
   "metadata": {},
   "outputs": [
    {
     "data": {
      "text/plain": [
       "[{'summary_text': 'The Eiffel Tower is the tallest free-standing structure in France'}]"
      ]
     },
     "execution_count": 16,
     "metadata": {},
     "output_type": "execute_result"
    }
   ],
   "source": [
    "predictor.predict({\n",
    "\t'inputs': \"The tower is 324 metres (1,063 ft) tall, about the same height as an 81-storey building, \\\n",
    "    and the tallest structure in Paris. Its base is square, measuring 125 metres (410 ft) on each side. \\\n",
    "    During its construction, the Eiffel Tower surpassed the Washington Monument to become the tallest \\\n",
    "    man-made structure in the world, a title it held for 41 years until the Chrysler Building in New York \\\n",
    "    City was finished in 1930. It was the first structure to reach a height of 300 metres. Due to the \\\n",
    "    addition of a broadcasting aerial at the top of the tower in 1957, it is now taller than the \\\n",
    "    Chrysler Building by 5.2 metres (17 ft). Excluding transmitters, the Eiffel Tower is the second \\\n",
    "    tallest free-standing structure in France after the Millau Viaduct.\"\n",
    "})"
   ]
  },
  {
   "cell_type": "code",
   "execution_count": 17,
   "metadata": {},
   "outputs": [
    {
     "data": {
      "text/plain": [
       "[{'summary_text': 'SECTION 1. LIABILITY OF BUSINESS ENTITIES PROVIDING USE'}]"
      ]
     },
     "execution_count": 17,
     "metadata": {},
     "output_type": "execute_result"
    }
   ],
   "source": [
    "predictor.predict({\n",
    "    'inputs': \"SECTION 1. LIABILITY OF BUSINESS ENTITIES PROVIDING USE OF FACILITIES TO NONPROFIT ORGANIZATIONS. \\\n",
    "    (a) Definitions.--In this section: (1) Business entity.--The term ``business entity'' means a firm, corporation, \\\n",
    "    association, partnership, consortium, joint venture, or other form of enterprise. (2) Facility.--The term \\\n",
    "    ``facility'' means any real property, including any building, improvement, or appurtenance. (3) \\\n",
    "    Gross negligence.--The term ``gross negligence'' means voluntary and conscious conduct by a person with \\\n",
    "    knowledge (at the time of the conduct) that the conduct is likely to be harmful to the health or well-being \\\n",
    "    of another person. (4) Intentional misconduct.--The term ``intentional misconduct'' means conduct by a person \\\n",
    "    with knowledge (at the time of the conduct) that the conduct is harmful to the health or well-being of another \\\n",
    "    person. (5) Nonprofit organization.--The term ``nonprofit organization'' means-- (A) any organization described \\\n",
    "    in section 501(c)(3) of the Internal Revenue Code of 1986 and exempt from tax under section 501(a) of such Code; \\\n",
    "    or (B) any not-for-profit organization organized and conducted for public benefit and operated primarily for \\\n",
    "    charitable, civic, educational, religious, welfare, or health purposes. (6) State.--The term ``State'' means each \\\n",
    "    of the several States, the District of Columbia, the Commonwealth of Puerto Rico, the Virgin Islands, Guam, \\\n",
    "    American Samoa, the Northern Mariana Islands, any other territory or possession of the United States, or \\\n",
    "    any political subdivision of any such State, territory, or possession. (b) Limitation on Liability.-- (1) \\\n",
    "    In general.--Subject to subsection (c), a business entity shall not be subject to civil liability relating \\\n",
    "    to any injury or death occurring at a facility of the business entity in connection with a use of such facility \\\n",
    "    by a nonprofit organization if-- (A) the use occurs outside of the scope of business of the business entity; \\\n",
    "    (B) such injury or death occurs during a period that such facility is used by the nonprofit organization; and \\\n",
    "    (C) the business entity authorized the use of such facility by the nonprofit organization. (2) Application.--\\\n",
    "    This subsection shall apply-- (A) with respect to civil liability under Federal and State law; and (B) regardless \\\n",
    "    of whether a nonprofit organization pays for the use of a facility. (c) Exception for Liability.--Subsection (b) \\\n",
    "    shall not apply to an injury or death that results from an act or omission of a business entity that constitutes \\\n",
    "    gross negligence or intentional misconduct, including any misconduct that-- (1) constitutes a crime of violence \\\n",
    "    (as that term is defined in section 16 of title 18, United States Code) or act of international terrorism (as \\\n",
    "    that term is defined in section 2331 of title 18) for which the defendant has been convicted in any court; (2) \\\n",
    "    constitutes a hate crime (as that term is used in the Hate Crime Statistics Act (28 U.S.C. 534 note)); (3) \\\n",
    "    involves a sexual offense, as defined by applicable State law, for which the defendant has been convicted \\\n",
    "    in any court; or (4) involves misconduct for which the defendant has been found to have violated a Federal or \\\n",
    "    State civil rights law. (d) Superseding Provision.-- (1) In general.--Subject to paragraph (2) and subsection \\\n",
    "    (e), this Act preempts the laws of any State to the extent that such laws are inconsistent with this Act, \\\n",
    "    except that this Act shall not preempt any State law that provides additional protection from liability for \\\n",
    "    a business entity for an injury or death with respect to which conditions under subparagraphs (A) through (C) \\\n",
    "    of subsection (b)(1) apply. (2) Limitation.--Nothing in this Act shall be construed to supersede any Federal \\\n",
    "    or State health or safety law. (e) Election of State Regarding Nonapplicability.--This Act shall not apply to \\\n",
    "    any civil action in a State court against a business entity in which all parties are citizens of the State if \\\n",
    "    such State enacts a statute-- (1) citing the authority of this subsection; (2) declaring the election of such \\\n",
    "    State that this Act shall not apply to such civil action in the State; and (3) containing no other provision.\"\n",
    "})"
   ]
  },
  {
   "cell_type": "code",
   "execution_count": 18,
   "metadata": {},
   "outputs": [],
   "source": [
    "predictor.delete_endpoint() "
   ]
  },
  {
   "cell_type": "code",
   "execution_count": null,
   "metadata": {},
   "outputs": [],
   "source": []
  }
 ],
 "metadata": {
  "kernelspec": {
   "display_name": ".venv",
   "language": "python",
   "name": "python3"
  },
  "language_info": {
   "codemirror_mode": {
    "name": "ipython",
    "version": 3
   },
   "file_extension": ".py",
   "mimetype": "text/x-python",
   "name": "python",
   "nbconvert_exporter": "python",
   "pygments_lexer": "ipython3",
   "version": "3.12.5"
  }
 },
 "nbformat": 4,
 "nbformat_minor": 2
}
